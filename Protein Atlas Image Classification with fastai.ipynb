{
  "cells": [
    {
      "metadata": {
        "trusted": true,
        "_uuid": "05e7b771c90fb82e8f1b9776683cd1b812477eb6"
      },
      "cell_type": "code",
      "source": "!pip install fastai==0.7.0 --no-deps\n!pip install torch==0.4.1 torchvision==0.2.1\n!pip install torchtext==0.2.3",
      "execution_count": null,
      "outputs": []
    },
    {
      "metadata": {
        "trusted": true,
        "_uuid": "a307ffd40f0d3e9aae934cb461756fda8a6a6324"
      },
      "cell_type": "code",
      "source": "from fastai.conv_learner import *",
      "execution_count": null,
      "outputs": []
    },
    {
      "metadata": {
        "trusted": true,
        "_uuid": "8d4fb3cf5d9969ef85f60ef1a5e0d5abc30d7fc5"
      },
      "cell_type": "code",
      "source": "from fastai.plots import *",
      "execution_count": null,
      "outputs": []
    },
    {
      "metadata": {
        "trusted": true,
        "_uuid": "81eeb8d2bbfe524d95182aef90b3a07a775c0d19"
      },
      "cell_type": "code",
      "source": "from fastai.imports import *\nfrom fastai.transforms import *\nfrom fastai.dataset import *\nfrom sklearn.metrics import fbeta_score\nimport warnings\ndef f2(preds, targs, start=0.17, end=0.24, step=0.01):\n    with warnings.catch_warnings():\n        warnings.simplefilter(\"ignore\")\n        return max([fbeta_score(targs, (preds>th), 2, average='samples')\n                    for th in np.arange(start,end,step)])",
      "execution_count": null,
      "outputs": []
    },
    {
      "metadata": {
        "trusted": true,
        "_uuid": "f2378c6163e008b05ad730f59ac389b841b82034"
      },
      "cell_type": "code",
      "source": "metrics=[f2]\nf_model = resnet34",
      "execution_count": null,
      "outputs": []
    },
    {
      "metadata": {
        "trusted": true,
        "_uuid": "8bdecf9b527af8abab51f49cc63354ef6a09c816"
      },
      "cell_type": "code",
      "source": "label_csv = '../input/train.csv'\nn = len(list(open(label_csv)))-1\nval_idxs = get_cv_idxs(n)",
      "execution_count": null,
      "outputs": []
    },
    {
      "metadata": {
        "trusted": true,
        "_uuid": "61208b9a81d898f9d58ba0cde07dabf6c06579a9"
      },
      "cell_type": "code",
      "source": "pd.read_csv(label_csv).head()",
      "execution_count": null,
      "outputs": []
    },
    {
      "metadata": {
        "_uuid": "8f2839f25d086af736a60e9eeb907d3b93b6e0e5",
        "_cell_guid": "b1076dfc-b9ad-4769-8c92-a6c4dae69d19",
        "trusted": true
      },
      "cell_type": "code",
      "source": "import pathlib\ndef get_data(sz):\n    tfms = tfms_from_model(f_model, sz, aug_tfms=transforms_top_down, max_zoom=1.1)\n    data = ImageClassifierData.from_csv('../input', 'train', label_csv, tfms=tfms,\n                    suffix='_green.png', val_idxs=val_idxs, test_name='test')\n    data.path = pathlib.Path('.')\n    return data",
      "execution_count": null,
      "outputs": []
    },
    {
      "metadata": {
        "_cell_guid": "79c7e3d0-c299-4dcb-8224-4455121ee9b0",
        "_uuid": "d629ff2d2480ee46fbb7e2d37f6b5fab8052498a",
        "trusted": true
      },
      "cell_type": "code",
      "source": "data = get_data(256)",
      "execution_count": null,
      "outputs": []
    },
    {
      "metadata": {
        "trusted": true,
        "_uuid": "b18be9e995a3b7d6347de7d6711f7f2808e3b39d"
      },
      "cell_type": "code",
      "source": "x,y = next(iter(data.val_dl))",
      "execution_count": null,
      "outputs": []
    },
    {
      "metadata": {
        "trusted": true,
        "_uuid": "a0ee32e2085a82c6e6cfd21b1257614c18337529"
      },
      "cell_type": "code",
      "source": "plt.imshow(data.val_ds.denorm(to_np(x))[0]*1.4);",
      "execution_count": null,
      "outputs": []
    },
    {
      "metadata": {
        "trusted": true,
        "_uuid": "1e223bdde8fe0a0df0faeebb8c0195a175d92ea5"
      },
      "cell_type": "code",
      "source": "learn = ConvLearner.pretrained(f_model, data, metrics=metrics)",
      "execution_count": null,
      "outputs": []
    },
    {
      "metadata": {
        "trusted": true,
        "_uuid": "5a24c18edadc9810274b6cd9e644e50129b11c2d"
      },
      "cell_type": "code",
      "source": "lrf=learn.lr_find()\nlearn.sched.plot()",
      "execution_count": null,
      "outputs": []
    },
    {
      "metadata": {
        "trusted": true,
        "_uuid": "7537cc9e351059ca28150719d74ca5b505f43510"
      },
      "cell_type": "code",
      "source": "lr = 0.2\nlearn.fit(lr, 3, cycle_len=1, cycle_mult=2)",
      "execution_count": null,
      "outputs": []
    },
    {
      "metadata": {
        "trusted": true,
        "_uuid": "8b16a2083681557f774a1b61027d987fb429014c"
      },
      "cell_type": "code",
      "source": "lrs = np.array([lr/9,lr/3,lr])\n\nlearn.unfreeze()\nlearn.fit(lrs, 3, cycle_len=1, cycle_mult=2)",
      "execution_count": null,
      "outputs": []
    },
    {
      "metadata": {
        "trusted": true,
        "_uuid": "535382b7832aa58e78dac1954118675c2db083b7"
      },
      "cell_type": "code",
      "source": "learn.sched.plot_loss()",
      "execution_count": null,
      "outputs": []
    },
    {
      "metadata": {
        "trusted": true,
        "_uuid": "2cac81d6060a137a212fde63f2f1a2994f340d96"
      },
      "cell_type": "code",
      "source": "multi_preds, y = learn.TTA()\npreds = np.mean(multi_preds, 0)",
      "execution_count": null,
      "outputs": []
    },
    {
      "metadata": {
        "trusted": true,
        "_uuid": "838189f42dde34679bddd8100a699a70fec188e1"
      },
      "cell_type": "code",
      "source": "f2(preds,y)",
      "execution_count": null,
      "outputs": []
    },
    {
      "metadata": {
        "trusted": true,
        "_uuid": "dfa84270cb1fb3f4a31ce64a0c4fb72c13ed7f5a"
      },
      "cell_type": "code",
      "source": "log_preds, y = learn.TTA(is_test=True) # use test dataset rather than validation dataset\nprobs = np.mean(np.exp(log_preds),0)",
      "execution_count": null,
      "outputs": []
    },
    {
      "metadata": {
        "trusted": true,
        "_uuid": "427b3ff174c48f24822508f38ff2fad2c69988ea"
      },
      "cell_type": "code",
      "source": "probs.shape",
      "execution_count": null,
      "outputs": []
    },
    {
      "metadata": {
        "trusted": true,
        "_uuid": "af449a8ce332411f42d47056e3e014b29d626f11"
      },
      "cell_type": "code",
      "source": "df = pd.DataFrame(probs)\ndf.columns = data.classes\n\ndf.insert(0, 'Id', [o[5:-4] for o in data.test_ds.fnames])\n\ndf.head()",
      "execution_count": null,
      "outputs": []
    },
    {
      "metadata": {
        "trusted": true,
        "_uuid": "b1d1dd770e9450c2ae6f12bfb827841e1c2fd289"
      },
      "cell_type": "code",
      "source": "SUBM = 'sub'\nos.makedirs(SUBM, exist_ok=True)\ndf.to_csv(f'{SUBM}subm.gz', compression='gzip', index=False)",
      "execution_count": null,
      "outputs": []
    },
    {
      "metadata": {
        "trusted": true,
        "_uuid": "e6fe7f430091f8ab706741308a802255aecd954b"
      },
      "cell_type": "code",
      "source": "",
      "execution_count": null,
      "outputs": []
    }
  ],
  "metadata": {
    "kernelspec": {
      "display_name": "Python 3",
      "language": "python",
      "name": "python3"
    },
    "language_info": {
      "name": "python",
      "version": "3.6.6",
      "mimetype": "text/x-python",
      "codemirror_mode": {
        "name": "ipython",
        "version": 3
      },
      "pygments_lexer": "ipython3",
      "nbconvert_exporter": "python",
      "file_extension": ".py"
    }
  },
  "nbformat": 4,
  "nbformat_minor": 1
}